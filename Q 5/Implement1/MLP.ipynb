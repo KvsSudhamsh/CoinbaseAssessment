{
 "cells": [
  {
   "cell_type": "markdown",
   "metadata": {},
   "source": [
    "Step 1: Data Preparation"
   ]
  },
  {
   "cell_type": "code",
   "execution_count": 1,
   "metadata": {},
   "outputs": [],
   "source": [
    "import numpy as np\n",
    "import pandas as pd"
   ]
  },
  {
   "cell_type": "code",
   "execution_count": 2,
   "metadata": {},
   "outputs": [],
   "source": [
    "# Sample categorical dataset\n",
    "\n",
    "data = pd.DataFrame({\n",
    "    'feature1': ['A', 'B', 'C', 'A', 'B', 'C'],\n",
    "    'feature2': ['X', 'Y', 'X', 'Y', 'X', 'Y'],\n",
    "    'target': ['yes', 'no', 'yes', 'no', 'yes', 'no']\n",
    "})"
   ]
  },
  {
   "cell_type": "code",
   "execution_count": 3,
   "metadata": {},
   "outputs": [],
   "source": [
    "# One-hot encoding categorical features\n",
    "X = pd.get_dummies(data[['feature1', 'feature2']]).values"
   ]
  },
  {
   "cell_type": "code",
   "execution_count": 4,
   "metadata": {},
   "outputs": [],
   "source": [
    "# One-hot encoding categorical target\n",
    "y = pd.get_dummies(data['target']).values  "
   ]
  },
  {
   "cell_type": "code",
   "execution_count": 5,
   "metadata": {},
   "outputs": [],
   "source": [
    "# Define network dimensions\n",
    "input_dim, hidden_dim, output_dim = X.shape[1], 8, y.shape[1]"
   ]
  },
  {
   "cell_type": "markdown",
   "metadata": {},
   "source": [
    " Strp 2: Implement MLP from Scratch"
   ]
  },
  {
   "cell_type": "code",
   "execution_count": 6,
   "metadata": {},
   "outputs": [],
   "source": [
    "# Initialize weights & biases\n",
    "np.random.seed(42)\n",
    "W1 = np.random.rand(input_dim, hidden_dim) * 0.01\n",
    "b1 = np.zeros((1, hidden_dim))\n",
    "W2 = np.random.rand(hidden_dim, output_dim) * 0.01\n",
    "b2 = np.zeros((1, output_dim))"
   ]
  },
  {
   "cell_type": "code",
   "execution_count": 7,
   "metadata": {},
   "outputs": [],
   "source": [
    "# Activation functions\n",
    "def relu(Z): return np.maximum(0, Z)\n",
    "def softmax(Z): return np.exp(Z) / np.sum(np.exp(Z), axis=1, keepdims=True)"
   ]
  },
  {
   "cell_type": "code",
   "execution_count": 8,
   "metadata": {},
   "outputs": [],
   "source": [
    "# Forward Pass\n",
    "def forward(X, W1, b1, W2, b2):\n",
    "    Z1, A1 = X @ W1 + b1, relu(X @ W1 + b1)\n",
    "    Z2, A2 = A1 @ W2 + b2, softmax(A1 @ W2 + b2)\n",
    "    return A1, A2\n"
   ]
  },
  {
   "cell_type": "code",
   "execution_count": 9,
   "metadata": {},
   "outputs": [],
   "source": [
    "# Backpropagation & Update\n",
    "def backward(X, y, A1, A2, W2, lr=0.01):\n",
    "    m = y.shape[0]\n",
    "    dZ2, dW2, db2 = A2 - y, A1.T @ (A2 - y) / m, np.sum(A2 - y, axis=0, keepdims=True) / m\n",
    "    dZ1, dW1, db1 = ((A2 - y) @ W2.T) * (A1 > 0), X.T @ ((A2 - y) @ W2.T) / m, np.sum(((A2 - y) @ W2.T) * (A1 > 0), axis=0, keepdims=True) / m\n",
    "    \n",
    "    return W1 - lr * dW1, b1 - lr * db1, W2 - lr * dW2, b2 - lr * db2"
   ]
  },
  {
   "cell_type": "code",
   "execution_count": 10,
   "metadata": {},
   "outputs": [
    {
     "name": "stdout",
     "output_type": "stream",
     "text": [
      "Epoch 0, Loss: 4.1590\n",
      "Epoch 100, Loss: 4.1588\n",
      "Epoch 200, Loss: 4.1585\n",
      "Epoch 300, Loss: 4.1579\n",
      "Epoch 400, Loss: 4.1564\n",
      "Epoch 500, Loss: 4.1522\n",
      "Epoch 600, Loss: 4.1410\n",
      "Epoch 700, Loss: 4.1110\n",
      "Epoch 800, Loss: 4.0326\n",
      "Epoch 900, Loss: 3.8395\n"
     ]
    }
   ],
   "source": [
    "# Training the MLP\n",
    "epochs = 1000\n",
    "for epoch in range(epochs):\n",
    "    A1, A2 = forward(X, W1, b1, W2, b2)\n",
    "    W1, b1, W2, b2 = backward(X, y, A1, A2, W2)\n",
    "    if epoch % 100 == 0: \n",
    "        print(f\"Epoch {epoch}, Loss: {-np.sum(y * np.log(A2)):.4f}\")"
   ]
  }
 ],
 "metadata": {
  "kernelspec": {
   "display_name": "env",
   "language": "python",
   "name": "python3"
  },
  "language_info": {
   "codemirror_mode": {
    "name": "ipython",
    "version": 3
   },
   "file_extension": ".py",
   "mimetype": "text/x-python",
   "name": "python",
   "nbconvert_exporter": "python",
   "pygments_lexer": "ipython3",
   "version": "3.10.11"
  }
 },
 "nbformat": 4,
 "nbformat_minor": 2
}
